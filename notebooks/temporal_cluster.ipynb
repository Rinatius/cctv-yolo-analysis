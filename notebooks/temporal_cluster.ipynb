{
 "cells": [
  {
   "cell_type": "code",
   "execution_count": null,
   "metadata": {},
   "outputs": [],
   "source": [
    "import pandas as pd"
   ]
  },
  {
   "cell_type": "code",
   "execution_count": null,
   "metadata": {},
   "outputs": [],
   "source": [
    "intersection = 0.8\n",
    "depth = 3"
   ]
  },
  {
   "cell_type": "code",
   "execution_count": null,
   "metadata": {},
   "outputs": [],
   "source": [
    "df = pd.read_csv(\"../csv/test.csv\")"
   ]
  },
  {
   "cell_type": "code",
   "execution_count": null,
   "metadata": {},
   "outputs": [],
   "source": [
    "df_clusters = pd.DataFrame()\n",
    "\n",
    "for row in df:\n",
    "    cluster = None\n",
    "    cluster\n",
    "    if not in_cluster(row, df_clusters):\n",
    "        cluster = start_cluster(row, df_clusters)\n",
    "    else:\n",
    "        cluster = get_cluster(row, df_clusters)\n",
    "    \n",
    "    candidate_row = find_cluster_member(df, cluster)\n",
    "    \n",
    "    if candidate_row:\n",
    "        add_to_cluster(candidate_row, cluster, df_clusters)\n",
    "\n",
    "def start_cluster(row, df_clusters):\n",
    "    row['cluster'] = hash_row(row)\n",
    "    row['hash'] = hash_row(row)\n",
    "    df_clusters = df_clusters.append(row, ignore_index = True)\n",
    "    return row\n",
    "\n",
    "def get_cluster(row, df_clusters):\n",
    "    row = df_clusters[(df_clusters['hash'] == hash_row(row))]\n",
    "    if row:\n",
    "        return df_clusters[(df_clusters['cluster'] == row['cluster'])]\n",
    "    else:\n",
    "        return None\n",
    "    \n",
    "    "
   ]
  },
  {
   "cell_type": "code",
   "execution_count": null,
   "metadata": {
    "scrolled": false
   },
   "outputs": [],
   "source": [
    "df[(df['class'] == 'car')]"
   ]
  },
  {
   "cell_type": "code",
   "execution_count": null,
   "metadata": {},
   "outputs": [],
   "source": []
  }
 ],
 "metadata": {
  "kernelspec": {
   "display_name": "Python 3",
   "language": "python",
   "name": "python3"
  },
  "language_info": {
   "codemirror_mode": {
    "name": "ipython",
    "version": 3
   },
   "file_extension": ".py",
   "mimetype": "text/x-python",
   "name": "python",
   "nbconvert_exporter": "python",
   "pygments_lexer": "ipython3",
   "version": "3.6.6"
  }
 },
 "nbformat": 4,
 "nbformat_minor": 2
}
