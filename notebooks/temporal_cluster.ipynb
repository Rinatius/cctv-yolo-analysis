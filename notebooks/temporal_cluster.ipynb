{
 "cells": [
  {
   "cell_type": "code",
   "execution_count": null,
   "metadata": {},
   "outputs": [],
   "source": [
    "import pandas as pd"
   ]
  },
  {
   "cell_type": "code",
   "execution_count": null,
   "metadata": {},
   "outputs": [],
   "source": [
    "iou = 0.6\n",
    "depth = 3"
   ]
  },
  {
   "cell_type": "code",
   "execution_count": null,
   "metadata": {},
   "outputs": [],
   "source": [
    "df = pd.read_csv(\"../csv/test.csv\")"
   ]
  },
  {
   "cell_type": "code",
   "execution_count": null,
   "metadata": {},
   "outputs": [],
   "source": [
    "def add_cluster_members(index, df, cluster_number, depth, iou):\n",
    "    row = df.loc[[index]]\n",
    "    for i in range(depth):\n",
    "        candidate_rows = df[(df['frame_number'] == row.iloc[0]['frame_number'] + i + 1) & \n",
    "                           (df['class'] == row.iloc[0]['class'])]\n",
    "        if not candidate_rows.empty:\n",
    "            row_iou = calculate_highest_iou(row, candidate_rows)\n",
    "            if row_iou and row_iou['iou'] >= iou:\n",
    "                df.loc[row_iou['row'].index[0], 'cluster'] = cluster_number\n",
    "                add_cluster_members(row_iou['row'].index[0], df, cluster_number, depth, iou)\n",
    "                break\n",
    "\n",
    "def calculate_highest_iou(row, candidate_rows):\n",
    "    row_iou = {}\n",
    "    iou_candidate = 0\n",
    "    for i in range(candidate_rows.shape[0]):\n",
    "        candidate = candidate_rows.iloc[[i]]\n",
    "        if iou_candidate < calculate_iou(row, candidate):\n",
    "            iou_candidate = calculate_iou(row, candidate)\n",
    "            row_iou['row'] = candidate\n",
    "            row_iou['iou'] = iou_candidate\n",
    "    return row_iou\n",
    "\n",
    "def calculate_iou(row, candidate):\n",
    "    boxA = string_to_list(row.iloc[0]['box'])\n",
    "    boxB = string_to_list(candidate.iloc[0]['box'])\n",
    "\n",
    "    #Following code was copied from https://www.pyimagesearch.com/2016/11/07/intersection-over-union-iou-for-object-detection/\n",
    "    # determine the (x, y)-coordinates of the intersection rectangle\n",
    "    xA = max(boxA[0], boxB[0])\n",
    "    yA = max(boxA[1], boxB[1])\n",
    "    xB = min(boxA[2], boxB[2])\n",
    "    yB = min(boxA[3], boxB[3])\n",
    "\n",
    "    # compute the area of intersection rectangle\n",
    "    interArea = max(0, xB - xA + 1) * max(0, yB - yA + 1)\n",
    "\n",
    "    # compute the area of both the prediction and ground-truth\n",
    "    # rectangles\n",
    "    boxAArea = (boxA[2] - boxA[0] + 1) * (boxA[3] - boxA[1] + 1)\n",
    "    boxBArea = (boxB[2] - boxB[0] + 1) * (boxB[3] - boxB[1] + 1)\n",
    "\n",
    "    # compute the intersection over union by taking the intersection\n",
    "    # area and dividing it by the sum of prediction + ground-truth\n",
    "    # areas - the interesection area\n",
    "    iou = interArea / float(boxAArea + boxBArea - interArea)\n",
    "\n",
    "    # return the intersection over union value\n",
    "    return iou\n",
    "\n",
    "def string_to_list(box):\n",
    "    box = box[1:][:-1].split()\n",
    "    return [float(i) for i in box]"
   ]
  },
  {
   "cell_type": "code",
   "execution_count": null,
   "metadata": {},
   "outputs": [],
   "source": [
    "df_clusters.loc[0, 'cluster'] = -1\n",
    "df_clusters.loc[0, 'cluster']"
   ]
  },
  {
   "cell_type": "code",
   "execution_count": null,
   "metadata": {},
   "outputs": [],
   "source": [
    "df_clusters = df.copy()\n",
    "df_clusters['cluster'] = -1\n",
    "\n",
    "for i in range(df_clusters.shape[0]):\n",
    "    if df_clusters.loc[i, 'cluster'] == -1:\n",
    "        df_clusters.loc[i, 'cluster'] = i\n",
    "        add_cluster_members(i, df_clusters, i, depth, iou)"
   ]
  },
  {
   "cell_type": "code",
   "execution_count": null,
   "metadata": {},
   "outputs": [],
   "source": [
    "df_clusters"
   ]
  },
  {
   "cell_type": "code",
   "execution_count": null,
   "metadata": {},
   "outputs": [],
   "source": []
  }
 ],
 "metadata": {
  "kernelspec": {
   "display_name": "Python 3",
   "language": "python",
   "name": "python3"
  },
  "language_info": {
   "codemirror_mode": {
    "name": "ipython",
    "version": 3
   },
   "file_extension": ".py",
   "mimetype": "text/x-python",
   "name": "python",
   "nbconvert_exporter": "python",
   "pygments_lexer": "ipython3",
   "version": "3.6.6"
  }
 },
 "nbformat": 4,
 "nbformat_minor": 2
}
